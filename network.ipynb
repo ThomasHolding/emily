{
 "cells": [
  {
   "cell_type": "code",
   "execution_count": 2,
   "metadata": {},
   "outputs": [],
   "source": [
    "import numpy as np\n",
    "import math\n",
    "from sympy import Symbol, Rational, binomial, expand_func\n",
    "from scipy.stats import binom\n",
    "import matplotlib.pyplot as plt\n",
    "import matplotlib.mlab as mlab\n",
    "np.random.seed(1)"
   ]
  },
  {
   "cell_type": "code",
   "execution_count": null,
   "metadata": {},
   "outputs": [],
   "source": [
    "#############################################################################################\n",
    "#This short python programme was recently written to solve an interesting problem raised by a friend:\n",
    "#Consider a network with N nodes. Edges between each pair of nodes are generated randomly with given probability P.\n",
    "#How \"connected\" is such a graph? In particular, what is the average shortest path between any two nodes? What is the number of edges?\n",
    "############################################################################################"
   ]
  },
  {
   "cell_type": "code",
   "execution_count": 3,
   "metadata": {},
   "outputs": [],
   "source": [
    "#Generates a network with N nodes, P being the probability of each edge existing,\n",
    "#returns the coeffienct matrix where coeff[i][j]==1 means there's an edge connecting node i and j,\n",
    "#otherwise 0.\n",
    "#This should be a symmetric matrix with 0 diagonals.\n",
    "################################################\n",
    "def genNetwork(N, P=0.08):\n",
    "    coeff = np.random.rand(N,N)\n",
    "    coeff = np.triu(coeff) + np.triu(coeff).T\n",
    "            # this step is to ensure coeff is a RAMDOM symmetric matrix; \n",
    "            #(coeff+coeff.T)/2 doesn't work: elements of the resulting matrix is much more likely to be close to 1/2.\n",
    "    coeff = (coeff < P) * 1\n",
    "    coeff = np.minimum(coeff,np.ones((N,N))-np.identity(N))\n",
    "            #subtracting diagonal\n",
    "    return coeff"
   ]
  },
  {
   "cell_type": "code",
   "execution_count": 4,
   "metadata": {},
   "outputs": [],
   "source": [
    "myMatrix = genNetwork(250,0.08)"
   ]
  },
  {
   "cell_type": "code",
   "execution_count": 5,
   "metadata": {},
   "outputs": [],
   "source": [
    "#Compute average shortest path.\n",
    "#The algorithm is to calculate i-connectedness in turn, \n",
    "#where 0-connectedness is the \"direct connectedness\", 1-connectedness is \"connected via one middle node\", etc.\n",
    "#I used a 3d array 'connect' to store this information, i.e. connect[i] = i-connectedness.\n",
    "#In practice, two 2d arrays would be enough (only connect[i-1] and connect[i] need to be kept track of).\n",
    "#But it's nice to store everything when possible, for testing convenience.\n",
    "######################################\n",
    "\n",
    "def averageShortestPath(N,R):\n",
    "    maxD = float(\"inf\")\n",
    "    connect = np.zeros((N,N,N))\n",
    "    connect[0] = R\n",
    "    dist = np.sum(R)\n",
    "    i = 1\n",
    "    while i < N-1:\n",
    "        connect[i] = np.dot(R,connect[i-1]) + connect[i-1] > 0\n",
    "        connect[i] = connect[i] * (np.ones((N,N)) - np.identity(N))\n",
    "        if np.sum(connect[i]-connect[i-1])==0:\n",
    "            break\n",
    "        dist = dist + np.sum(connect[i]-connect[i-1]) * (i+1)\n",
    "        i+=1\n",
    "    print(str(connect[i]))\n",
    "    connectedPairs = np.sum(connect[i])\n",
    "    average = dist/connectedPairs    \n",
    "    return average\n",
    "\n",
    "################################\n",
    "#I understood average shortest path as the average of shortest (existing) paths between CONNECTED pairs of nodes, \n",
    "#so infinity is not considered a valid value.\n",
    "#If \"shortest path\" meant \"distance\", I would add a line after the while loop to decide if the graph is connected:\n",
    "#that is, if connect[i]!= np.ones((N,N))-np.identity(N), the function should return infinity.\n",
    "#That's because if the graph is disconnected, some distance must be infinity so the average will always be infinity.\n",
    "#It's quite safe to assume the graph to be connected in this case as the loop normally ends after 20 iterations."
   ]
  },
  {
   "cell_type": "code",
   "execution_count": 6,
   "metadata": {},
   "outputs": [
    {
     "name": "stdout",
     "output_type": "stream",
     "text": [
      "[[0. 1. 1. ... 1. 1. 1.]\n",
      " [1. 0. 1. ... 1. 1. 1.]\n",
      " [1. 1. 0. ... 1. 1. 1.]\n",
      " ...\n",
      " [1. 1. 1. ... 0. 1. 1.]\n",
      " [1. 1. 1. ... 1. 0. 1.]\n",
      " [1. 1. 1. ... 1. 1. 0.]]\n"
     ]
    },
    {
     "data": {
      "text/plain": [
       "2.101590361445783"
      ]
     },
     "execution_count": 6,
     "metadata": {},
     "output_type": "execute_result"
    }
   ],
   "source": [
    "averageShortestPath(250,myMatrix)"
   ]
  },
  {
   "cell_type": "code",
   "execution_count": 7,
   "metadata": {},
   "outputs": [],
   "source": [
    "#Gets the number of edges for a given network\n",
    "def edgeNumber(coeff):\n",
    "    return np.sum(coeff)/2"
   ]
  },
  {
   "cell_type": "code",
   "execution_count": 8,
   "metadata": {},
   "outputs": [
    {
     "data": {
      "text/plain": [
       "2501.0"
      ]
     },
     "execution_count": 8,
     "metadata": {},
     "output_type": "execute_result"
    }
   ],
   "source": [
    "edgeNumber(myMatrix)\n",
    "################\n",
    "#The number of edges of the whole network is a binomial distribution with mean mu=(N*(N-1)/2) * p and is 2490 in this case."
   ]
  },
  {
   "cell_type": "code",
   "execution_count": 9,
   "metadata": {},
   "outputs": [],
   "source": [
    "#plot the above binomial distribution using the cdf method of binom class in scipy. \n",
    "    #N: number of nodes\n",
    "    #p: probability\n",
    "    #l: length of interval\n",
    "    #rang: plotting range\n",
    "##################\n",
    "def plot(N,p,l=10, rang = 1000):\n",
    "    n = int(N * (N-1)/2)\n",
    "    mu = n*p\n",
    "    mid = mu/l\n",
    "    step = int(rang/l)\n",
    "    prob = np.zeros(step)\n",
    "    dens = np.zeros(step)\n",
    "    for i in range(0,step):\n",
    "        prob[i] = binom.cdf((i+mid-step/2)*l,n,p)\n",
    "        dens[i] = prob[i]-prob[i-1]\n",
    "    #mean, var, skew, kurt = binom.stats(n, p, moments='mvsk')\n",
    "    #plt.show()\n",
    "    plt.plot(np.arange(mu-rang/2,mu+rang/2,l),dens)\n",
    "    plt.show()\n",
    "    return dens"
   ]
  },
  {
   "cell_type": "code",
   "execution_count": 10,
   "metadata": {},
   "outputs": [
    {
     "data": {
      "image/png": "[encoded data removed]",
      "text/plain": [
       "<Figure size 432x288 with 1 Axes>"
      ]
     },
     "metadata": {
      "needs_background": "light"
     },
     "output_type": "display_data"
    }
   ],
   "source": [
    "density = plot(250,0.08)"
   ]
  },
  {
   "cell_type": "code",
   "execution_count": null,
   "metadata": {},
   "outputs": [],
   "source": []
  }
 ],
 "metadata": {
  "kernelspec": {
   "display_name": "Python 3",
   "language": "python",
   "name": "python3"
  },
  "language_info": {
   "codemirror_mode": {
    "name": "ipython",
    "version": 3
   },
   "file_extension": ".py",
   "mimetype": "text/x-python",
   "name": "python",
   "nbconvert_exporter": "python",
   "pygments_lexer": "ipython3",
   "version": "3.7.0"
  }
 },
 "nbformat": 4,
 "nbformat_minor": 2
}
